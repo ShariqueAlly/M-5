{
  "nbformat": 4,
  "nbformat_minor": 0,
  "metadata": {
    "colab": {
      "provenance": [],
      "runtime_attributes": {
        "runtime_version": "2025.07"
      }
    },
    "kernelspec": {
      "name": "ir",
      "display_name": "R"
    },
    "language_info": {
      "name": "R"
    }
  },
  "cells": [
    {
      "cell_type": "markdown",
      "source": [
        "** Q1. Features of HTML6 (anticipated / upcoming features)**\n",
        "\n",
        "**Enhanced multimedia support**\n",
        "→ Better video and audio handling\n",
        "→ Improved streaming and adaptive playback\n",
        "\n",
        "**Web Components**\n",
        "→ More standardized custom elements\n",
        "→ Reusable components across websites\n",
        "\n",
        "***Support for AR/VR and immersive experiences***\n",
        "→ Integration with WebXR API\n",
        "→ 3D rendering improvements\n",
        "\n",
        "**Improved forms and inputs**\n",
        "→ Advanced validation\n",
        "→ New input types and UI controls\n",
        "\n",
        "**Stronger offline capabilities**\n",
        "→ Enhanced caching mechanisms\n",
        "→ Service workers and background sync\n",
        "\n",
        "**More semantic elements**\n",
        "→ Additional tags for better structure and readability\n",
        "\n",
        "**Enhanced security features **\n",
        "→ Safer browsing and content isolation\n",
        "→ Improved permissions handling\n",
        "\n",
        "**Performance improvements**\n",
        "→ Optimized rendering\n",
        "→ Faster user interactions"
      ],
      "metadata": {
        "id": "sHNh1-vnLgJv"
      }
    },
    {
      "cell_type": "markdown",
      "source": [
        "**Q2. What are HTML Entities? List out 5 commonly used HTML entities**\n",
        "\n",
        "**✔ HTML Entities:**\n",
        "\n",
        "Special characters that have reserved meanings in HTML are represented using entities.\n",
        "\n",
        "Entities are used to display characters that would otherwise be interpreted as HTML code.\n",
        "\n",
        "**They start with & and end with ;.**\n",
        "\n",
        "**✔ Examples of commonly used HTML entities:**\n",
        "\n",
        "&lt; → Represents the “less than” sign (<)\n",
        "\n",
        "&gt; → Represents the “greater than” sign (>)\n",
        "\n",
        "&amp; → Represents the ampersand (&)\n",
        "\n",
        "&quot; → Represents double quotation mark (\")\n",
        "\n",
        "&nbsp; → Represents a non-breaking space"
      ],
      "metadata": {
        "id": "TMNV1yMKMSm3"
      }
    },
    {
      "cell_type": "markdown",
      "source": [
        "**Q3. Define accessibility in the context of web development. Discuss why it's essential to create accessible websites and how it benefits different user groups.**\n",
        "\n",
        "**✔ Accessibility in Web Development:**\n",
        "\n",
        "Making websites usable by everyone, including people with disabilities.\n",
        "\n",
        "Ensures that content is easy to perceive, navigate, and interact with regardless of physical, cognitive, or technical limitations.\n",
        "\n",
        "**✔ Why it’s essential:**\n",
        "\n",
        "Promotes equal access to information and services for all users.\n",
        "\n",
        "Complies with legal standards and guidelines (like WCAG – Web Content Accessibility Guidelines).\n",
        "\n",
        "Improves usability for everyone, not just people with disabilities.\n",
        "\n",
        "Increases audience reach and user satisfaction.\n",
        "\n",
        "**✔ Benefits for different user groups:**\n",
        "\n",
        "Visually impaired users → Screen readers can interpret content.\n",
        "\n",
        "Hearing-impaired users → Captions and transcripts make media content understandable.\n",
        "\n",
        "Mobility impaired users → Keyboard navigation makes interaction easier.\n",
        "\n",
        "Cognitive disabilities → Simple design and clear structure enhance comprehension.\n",
        "\n",
        "Older adults and people with temporary impairments → Adjustable text sizes and contrast improve readability."
      ],
      "metadata": {
        "id": "dDrLy0v7MiRx"
      }
    },
    {
      "cell_type": "markdown",
      "source": [
        "**Q4. List any 3 ways which help us in improving the accessibility of HTML**\n",
        "\n",
        "**Use semantic HTML elements:**\n",
        "→ Elements like <header>, <nav>, <main>, <section>, <footer> provide structure and meaning to content.\n",
        "\n",
        "**Provide alternative text for images:**\n",
        "→ Use the alt attribute in <img> tags to describe images for screen readers and users with visual impairments.\n",
        "\n",
        "**Ensure proper contrast and readable fonts:**\n",
        "→ Use sufficient color contrast between text and background\n",
        "→ Choose fonts that are clear and easy to read for users with visual or cognitive challenges"
      ],
      "metadata": {
        "id": "4Hgwu-pGM31j"
      }
    },
    {
      "cell_type": "code",
      "source": [
        "Q-5\n",
        "\n",
        " <!DOCTYPE html>\n",
        "<html lang=\"en\">\n",
        "<head>\n",
        "    <meta charset=\"UTF-8\">\n",
        "    <meta name=\"viewport\" content=\"width=device-width, initial-scale=1.0\">\n",
        "    <title>HTML5 Features</title>\n",
        "</head>\n",
        "<body>\n",
        "\n",
        "    <header>\n",
        "        <h1>Features of HTML5</h1>\n",
        "    </header>\n",
        "\n",
        "    <main>\n",
        "        <section>\n",
        "            <h2>1. Semantic Elements</h2>\n",
        "            <p>HTML5 provides semantic tags like <code>&lt;header&gt;</code>, <code>&lt;nav&gt;</code>, <code>&lt;section&gt;</code>, and <code>&lt;footer&gt;</code> which help structure web content clearly.</p>\n",
        "        </section>\n",
        "\n",
        "        <section>\n",
        "            <h2>2. Multimedia Support</h2>\n",
        "            <p>HTML5 allows embedding video and audio directly with the <code>&lt;video&gt;</code> and <code>&lt;audio&gt;</code> tags without using third-party plugins.</p>\n",
        "        </section>\n",
        "\n",
        "        <section>\n",
        "            <h2>3. Form Enhancements</h2>\n",
        "            <p>New input types like <code>email</code>, <code>date</code>, and <code>number</code> are added to HTML5, offering better validation and user-friendly forms.</p>\n",
        "        </section>\n",
        "    </main>\n",
        "\n",
        "    <footer>\n",
        "        <p>&copy; 2025 HTML5 Web Page Example</p>\n",
        "    </footer>\n",
        "\n",
        "</body>\n",
        "</html>\n"
      ],
      "metadata": {
        "id": "AOHnj_syOLBR"
      },
      "execution_count": null,
      "outputs": []
    },
    {
      "cell_type": "code",
      "source": [
        "Q-6\n",
        "\n",
        "<!DOCTYPE html>\n",
        "<html lang=\"en\">\n",
        "<head>\n",
        "    <meta charset=\"UTF-8\">\n",
        "    <meta name=\"viewport\" content=\"width=device-width, initial-scale=1.0\">\n",
        "    <title>HTML vs HTML5</title>\n",
        "</head>\n",
        "<body>\n",
        "\n",
        "    <h1 style=\"text-align: center;\">Comparison of HTML and HTML5</h1>\n",
        "\n",
        "    <table border=\"1\" cellspacing=\"0\" cellpadding=\"8\" style=\"width: 80%; margin: auto; border-collapse: collapse;\">\n",
        "        <thead>\n",
        "            <tr style=\"background-color: #f2f2f2;\">\n",
        "                <th>HTML</th>\n",
        "                <th>HTML5</th>\n",
        "            </tr>\n",
        "        </thead>\n",
        "        <tbody>\n",
        "            <tr>\n",
        "                <td>Uses basic structure elements like <code>&lt;div&gt;</code>.</td>\n",
        "                <td>Introduces semantic elements like <code>&lt;section&gt;</code>, <code>&lt;article&gt;</code>, <code>&lt;header&gt;</code>, etc.</td>\n",
        "            </tr>\n",
        "            <tr>\n",
        "                <td>Multimedia content requires plugins like Flash.</td>\n",
        "                <td>Supports multimedia content natively with <code>&lt;audio&gt;</code> and <code>&lt;video&gt;</code> tags.</td>\n",
        "            </tr>\n",
        "            <tr>\n",
        "                <td>Form inputs are limited with basic validation.</td>\n",
        "                <td>Offers new input types like <code>email</code>, <code>date</code>, and built-in validation.</td>\n",
        "            </tr>\n",
        "        </tbody>\n",
        "    </table>\n",
        "\n",
        "</body>\n",
        "</html>\n"
      ],
      "metadata": {
        "id": "Y1aGKLa_Oon9"
      },
      "execution_count": null,
      "outputs": []
    }
  ]
}